{
 "cells": [
  {
   "cell_type": "markdown",
   "metadata": {},
   "source": [
    "## Cafile"
   ]
  },
  {
   "cell_type": "code",
   "execution_count": 8,
   "metadata": {},
   "outputs": [
    {
     "name": "stdout",
     "output_type": "stream",
     "text": [
      "Hello, world!\n"
     ]
    }
   ],
   "source": [
    "import ssl\n",
    "\n",
    "import httpx\n",
    "import trustme\n",
    "\n",
    "# Look, you just created your certificate authority!\n",
    "ca = trustme.CA()\n",
    "\n",
    "# And now you issued a cert signed by this fake CA\n",
    "# https://en.wikipedia.org/wiki/Example.org\n",
    "server_cert = ca.issue_cert(\"test-host.example.org\")\n",
    "\n",
    "# That's it!\n",
    "\n",
    "# ----- Using your shiny new certs -----\n",
    "# Use an explicitly configured certificate store.\n",
    "ctx = ssl.create_default_context(cafile=\"client.pem\")  # Either cafile or capath.\n",
    "ca.configure_trust(ctx)\n",
    "client = httpx.Client(verify=ctx)\n",
    "# ----- Creating certs -----\n",
    "# You can configure SSL context objects to trust this CA:\n",
    "# Or configure them to present the server certificate\n",
    "# server_cert.configure_cert(ssl_context)\n",
    "resp = client.get(\"https://localhost:8000\")\n",
    "print(resp.text)"
   ]
  },
  {
   "cell_type": "markdown",
   "metadata": {},
   "source": [
    "## mTLS"
   ]
  },
  {
   "cell_type": "code",
   "execution_count": 15,
   "metadata": {},
   "outputs": [
    {
     "name": "stdout",
     "output_type": "stream",
     "text": [
      "Hello, world!\n"
     ]
    }
   ],
   "source": [
    "import ssl\n",
    "\n",
    "import httpx\n",
    "\n",
    "# Paths to your certificates\n",
    "CERT_DIR = \"tests/certs\"\n",
    "CA_CERT = f\"{CERT_DIR}/ca.pem\"  # CA certificate (used to verify server)\n",
    "CLIENT_CERT = f\"{CERT_DIR}/client.pem\"  # Client certificate (used for mTLS)\n",
    "CLIENT_KEY = f\"{CERT_DIR}/client.key\"  # Client private key (used for mTLS)\n",
    "\n",
    "# Configure SSL context for mutual TLS\n",
    "ctx = ssl.create_default_context(cafile=CA_CERT)  # Trust the CA\n",
    "ctx.load_cert_chain(certfile=CLIENT_CERT, keyfile=CLIENT_KEY)  # Client auth\n",
    "\n",
    "# Create an HTTPX client with mTLS\n",
    "with httpx.Client(verify=ctx) as client:\n",
    "    response = client.get(\"https://localhost:8000/\")\n",
    "    print(response.text)"
   ]
  }
 ],
 "metadata": {
  "kernelspec": {
   "display_name": ".venv",
   "language": "python",
   "name": "python3"
  },
  "language_info": {
   "codemirror_mode": {
    "name": "ipython",
    "version": 3
   },
   "file_extension": ".py",
   "mimetype": "text/x-python",
   "name": "python",
   "nbconvert_exporter": "python",
   "pygments_lexer": "ipython3",
   "version": "3.10.14"
  }
 },
 "nbformat": 4,
 "nbformat_minor": 2
}
